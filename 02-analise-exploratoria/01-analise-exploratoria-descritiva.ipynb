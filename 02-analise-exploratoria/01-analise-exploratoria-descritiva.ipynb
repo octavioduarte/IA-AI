{
 "cells": [
  {
   "cell_type": "markdown",
   "id": "7216e81f-86e9-49fd-a480-9f7a64653a33",
   "metadata": {},
   "source": [
    "## Análise exploratória"
   ]
  },
  {
   "cell_type": "markdown",
   "id": "f72f4d42-ac59-4dc0-9efa-2bc578a77da2",
   "metadata": {},
   "source": [
    "A análise exploratória é um conjunto de processos usados por cientistas e analistas para tornar os dados úteis. Ela permite identificar <i>gaps</i> nos processos de uma empresa ou serviço, entender tendências no contexto dos dados e desenvolver soluções para problemas, tudo com base na análise exploratória.\n",
    "\n",
    "Os tipos de análise exploratória são <b>Análise Descritiva</b>, <b>Análise Preditiva</b> e <b>Análise Prescritiva</b>, vamos ver neste repositório a abordagem de cada uma, neste texto vamos focar na **análise descritiva.**"
   ]
  },
  {
   "cell_type": "markdown",
   "id": "23e55926-9f62-4a13-ae66-fc3921321252",
   "metadata": {},
   "source": [
    "### Análise Descritiva\n",
    "\n",
    "Na análise descritiva vamos **extrair informações relevantes dos dados de forma imparcial e generalizada**. Para isso vamos seguir 3 etapas: **coleta, limpeza e apresentação** dos dados existentes. Um ponto importante,  **na análise descritiva, trabalhamos exclusivamente com dados já disponíveis, sem considerar previsões ou estimativas futuras**. Por exemplo, se houver a expectativa de um aumento nas compras no próximo mês, essa projeção não deve ser considerada na análise descritiva. Existem outros métodos mais adequados para lidar com previsões."
   ]
  },
  {
   "cell_type": "markdown",
   "id": "bf3da06e-46f8-4a41-9edb-23095a496b07",
   "metadata": {
    "jp-MarkdownHeadingCollapsed": true
   },
   "source": [
    "### O que abordar em uma análise descritiva?\n",
    "\n",
    "A resposta dessa pergunta é a compreensão da resposta de uma outra pergunta:\n",
    "\n",
    "**O que vou fazer com o resultado dessa análise?** Eu poderia: entrega-lo a gestão para tomadas de decisão, utilizar para fins comerciais, insights ou até mesmo para a construção de um modelo de machine learning, enfim, há diferentes abordagens deste processo o importante aqui é entender **o que vai ser abordado em uma análise descritiva vai depender do público alvo dela**. O restante deste texto vai abordar diferentes informações que são possíveis de se extrair deste dataset e inclusive pode ser útil para diferentes públicos."
   ]
  },
  {
   "cell_type": "markdown",
   "id": "56f7afd8-d939-432b-bd75-21e5f1b1f9e9",
   "metadata": {},
   "source": [
    "### Fazendo uma análise descritiva em um dataset\n",
    "\n",
    "Vamos colocar em prática a análise descritiva de um dataset extraído do [kaggle](https://kaggle.com). São informações sobre títulos do catálogo da Netflix.\n",
    "\n",
    "Para esta análise vamos utilizar a biblioteca [Pandas](https://pandas.pydata.org/getting_started.html)"
   ]
  },
  {
   "cell_type": "code",
   "execution_count": 307,
   "id": "27373889-5c7f-40eb-994b-740a7f2c3a5f",
   "metadata": {},
   "outputs": [],
   "source": [
    "import pandas as pd \n",
    "\n",
    "base = pd.read_csv('./netflix_titles.csv')"
   ]
  },
  {
   "cell_type": "markdown",
   "id": "dce750a1-0779-4524-b900-055a8e96f229",
   "metadata": {},
   "source": [
    "Explicação do código:\n",
    "\n",
    "Na primeira linha estamos importando o pandas \n",
    "\n",
    "Na segunda linha estamos atribuindo a variável `base` o retorno do método `read_csv` em outras palavras esta variável agora representa o nosso dataset."
   ]
  },
  {
   "cell_type": "markdown",
   "id": "96fc3384-bb98-4966-a1e9-8d897c1b688f",
   "metadata": {},
   "source": [
    "#### Analisando a disposição dos nossos dados (etapa 1)\n",
    "\n",
    "Com a função `.info` conseguimos ver um resumo bem generalista dos nossos dados. Ela vai nos retornar cada coluna, seus tipos, quantos valores nulos existem e até o espaço físico dos nossos dados. "
   ]
  },
  {
   "cell_type": "code",
   "execution_count": 28,
   "id": "655ac66a-14c8-43ec-998c-ffb2c14f413b",
   "metadata": {},
   "outputs": [
    {
     "name": "stdout",
     "output_type": "stream",
     "text": [
      "<class 'pandas.core.frame.DataFrame'>\n",
      "RangeIndex: 8807 entries, 0 to 8806\n",
      "Data columns (total 12 columns):\n",
      " #   Column        Non-Null Count  Dtype \n",
      "---  ------        --------------  ----- \n",
      " 0   show_id       8807 non-null   object\n",
      " 1   type          8807 non-null   object\n",
      " 2   title         8807 non-null   object\n",
      " 3   director      6173 non-null   object\n",
      " 4   cast          7982 non-null   object\n",
      " 5   country       7976 non-null   object\n",
      " 6   date_added    8797 non-null   object\n",
      " 7   release_year  8807 non-null   int64 \n",
      " 8   rating        8803 non-null   object\n",
      " 9   duration      8804 non-null   object\n",
      " 10  listed_in     8807 non-null   object\n",
      " 11  description   8807 non-null   object\n",
      "dtypes: int64(1), object(11)\n",
      "memory usage: 825.8+ KB\n"
     ]
    }
   ],
   "source": [
    "base.info()"
   ]
  },
  {
   "cell_type": "markdown",
   "id": "d84d2246-376c-4ef8-ac73-3e7c9e58a87a",
   "metadata": {},
   "source": [
    "Já podemos tirar algumas conclusões do nosso Dataset, vamos a elas: \n",
    "\n",
    " - Temos 8807 linhas e 12 colunas.\n",
    " - Algumas colunas possuem registros nulos, são elas: director, cast, country, date_added, rating e duration.\n",
    "\n",
    "Este último ponto é importante, trabalhar com dados nulos é um desafio em muitos casos, conceitualmente falando como fazer uma análise descritiva de uma informação ausente? Bom, vamos tratar isso.\n",
    "\n",
    "A abordagem que vamos seguir aqui não é a ideal para todos os casos, mas vamos excluir todas as linhas com registros nulos, mas ressalto existem outras técnicas, algumas abordagens que poderíamos seguir para registros nulos: \n",
    "\n",
    "- Preencher os registros com a média aritimética da coluna (quando a coluna é numérica).\n",
    "    \n",
    "- Preencher os registros com a moda da coluna (moda = registro que mais aparece), essa abordagem não pode ser usada em todos os casos, mas é uma alternativa.\n",
    "\n",
    "- Preencher os registros com um valor default, alguns cientistas utilizam o 0 quando o registro é numérico nestes casos.\n",
    "\n",
    "Aqui está [um texto didático](https://dev.to/franciscojdsjr/tratamento-de-dados-nulos-no-pandas-uma-abordagem-completa-e-detalhada-41n1) que põe em prática algumas abordagens.\n",
    "\n",
    "No nosso como estamos apenas em um contexto educativo simples, vamos apagar estes registros, mas lembre-se <span style=\"color: red\"> informar a quantidade de registros nulos na sua apresentação pode enriquecer o resultado da sua análise descritiva.</span> Entenda que saindo do mundo conceitual e indo para o mundo real (corporativo) é provável que os interessados no resultado da análise necessitem deste dado."
   ]
  },
  {
   "cell_type": "markdown",
   "id": "89b75fab-009a-4fa3-8d2a-0a9662e8fd83",
   "metadata": {},
   "source": [
    "#### Removendo os registros nulos do nosso dataset"
   ]
  },
  {
   "cell_type": "code",
   "execution_count": 308,
   "id": "d1d2ea16-fe9a-414a-bd2a-13bcd9111bf3",
   "metadata": {},
   "outputs": [],
   "source": [
    " base = base.dropna() # .dropna() = apaga todas as linhas que possuem um ou mais registros nulos "
   ]
  },
  {
   "cell_type": "markdown",
   "id": "fb63ec50-77d6-4cfb-8942-95c7dce195b4",
   "metadata": {},
   "source": [
    "#### Conferindo o resultado."
   ]
  },
  {
   "cell_type": "code",
   "execution_count": 276,
   "id": "529ac778-3401-4d99-816a-62120116ab52",
   "metadata": {},
   "outputs": [
    {
     "name": "stdout",
     "output_type": "stream",
     "text": [
      "<class 'pandas.core.frame.DataFrame'>\n",
      "Index: 5332 entries, 7 to 8806\n",
      "Data columns (total 12 columns):\n",
      " #   Column        Non-Null Count  Dtype \n",
      "---  ------        --------------  ----- \n",
      " 0   show_id       5332 non-null   object\n",
      " 1   type          5332 non-null   object\n",
      " 2   title         5332 non-null   object\n",
      " 3   director      5332 non-null   object\n",
      " 4   cast          5332 non-null   object\n",
      " 5   country       5332 non-null   object\n",
      " 6   date_added    5332 non-null   object\n",
      " 7   release_year  5332 non-null   int64 \n",
      " 8   rating        5332 non-null   object\n",
      " 9   duration      5332 non-null   object\n",
      " 10  listed_in     5332 non-null   object\n",
      " 11  description   5332 non-null   object\n",
      "dtypes: int64(1), object(11)\n",
      "memory usage: 541.5+ KB\n"
     ]
    }
   ],
   "source": [
    "base.info()"
   ]
  },
  {
   "cell_type": "markdown",
   "id": "04588fcf-cda7-45d0-936c-85b38d7760ce",
   "metadata": {},
   "source": [
    "Temos agora 5332 registros não nulos, podemos continuar nossa análise."
   ]
  },
  {
   "cell_type": "markdown",
   "id": "492e7d46-e4af-46b9-8604-ef75688cf2bc",
   "metadata": {},
   "source": [
    "### Problema da excessiva variedade de registros"
   ]
  },
  {
   "cell_type": "markdown",
   "id": "92c827de-96be-48e5-8dcf-ee1dda4a021e",
   "metadata": {},
   "source": [
    "Ao contrário do que vemos em alguns conteúdos didáticos os dados não chegam em um formato propício para a análise, existem modelagens não adequadas que tem como consequência dados mal formatados.\n",
    "\n",
    "Um problema comum é a grande variedade de registros das [colunas categóricas](https://www.aprendadatascience.com/blog/an%C3%A1lise-explorat%C3%B3ria-de-dados/vari%C3%A1veis-categ%C3%B3ricas-enconding) Um dos problemas dessa variedade de registros é não conseguir identificar determinados comportamentos por categorias de dados, pois a quantidade de dados e categoria são praticamente a mesma 🙃.\n",
    "\n",
    "Outra dificuldade é gerar um relatório de fácil interpretação. Os dados categóricos geralmente são representados em gráficos para visualizarmos a distribuição por categoria. No entanto, quando lidamos com uma ampla variedade de categorias, surge o desafio de mapeá-las dentro do gráfico de forma a manter uma apresentação visual adequada para análise.\n",
    "\n",
    "Abaixo vamos ver uma análise descritiva que vai entregar resultados mesmo com uma base com uma grande variedade de registro, aplicando algumas técnicas da comunidade de cientista de dados."
   ]
  },
  {
   "cell_type": "markdown",
   "id": "14ff2674-7955-480b-872f-ffdb7b4cec27",
   "metadata": {},
   "source": [
    "### Vamos analisar algumas informações quantitativas básicas:"
   ]
  },
  {
   "cell_type": "markdown",
   "id": "888fb4b0-0569-4cd1-9455-e8610d6c2688",
   "metadata": {},
   "source": [
    "<h4 style=\"color: blue\">Diferença quantitativa entre séries e filmes adicionados no catálogo</h4>\n",
    "\n",
    "A diferença quantitativa entre séries e filmes adicionados ao catálogo requer algumas etapas preliminares para garantir a precisão dos resultados.\n",
    "\n",
    "Para a geração deste relatório vamos gerar um gráfico utilizando a relação das colunas:\n",
    "\n",
    "`date_added`: Data em que a produção foi adicionado ao catálogo </br>\n",
    "`type`: Que nos diz se a produção é um filme ou série\n",
    "\n",
    "A idéia aqui é simples, vamos ter um gráfico que terá no eixo X as datas e no eixo Y as quantidades, lembrando **eixo Y é o vertical e X o horizontal**, mas antes vamos precisar aplicar uma tratativa para esta base (é a etapa da limpeza acontecendo). O problema é que temos uma grande variedade de datas conforme nos diz a célula abaixo: "
   ]
  },
  {
   "cell_type": "code",
   "execution_count": 304,
   "id": "199b1409-6796-41d6-ab26-aac5aa7ca665",
   "metadata": {},
   "outputs": [
    {
     "name": "stdout",
     "output_type": "stream",
     "text": [
      "A coluna date_added possui 1450 diferentes variações.\n"
     ]
    }
   ],
   "source": [
    "print(\"A coluna date_added possui {} diferentes variações.\".format(len(base[\"date_added\"].value_counts())) )"
   ]
  },
  {
   "cell_type": "markdown",
   "id": "c0255ca6-45db-4adf-948b-33c2a1d1f2c5",
   "metadata": {},
   "source": [
    "São 1450 variações de registros o que tornaria qualquer relatório inviável, portanto vamos dividir estes períodos em semestres, mas antes vamos fazer uma rápida conversão da coluna para um formato de data mais adequado."
   ]
  },
  {
   "cell_type": "code",
   "execution_count": 309,
   "id": "b56f9131-6469-4150-bab3-c6299632cb56",
   "metadata": {},
   "outputs": [],
   "source": [
    "# Declaramos um dicionário para fazer o mapeamento dos meses que estão em um formato de texto para o\n",
    "#tipo numérico\n",
    "\n",
    "months = {\n",
    "    \"January\": \"01\",\n",
    "    \"February\": \"02\",\n",
    "    \"March\": \"03\",\n",
    "    \"April\": \"04\",\n",
    "    \"May\": \"05\",\n",
    "    \"June\": \"06\",\n",
    "    \"July\": \"07\",\n",
    "    \"August\": \"08\",\n",
    "    \"September\": \"09\",\n",
    "    \"October\": \"10\",\n",
    "    \"November\": \"11\",\n",
    "    \"December\": \"12\"\n",
    "}\n",
    "\n",
    "\n",
    "\n",
    "# Esta função receberá a data e fará o processo de conversão, na prática será assim:\n",
    "# Entra: September 25, 2021\n",
    "# Sai:   2021-09-25\n",
    "def convert_date (date_as_string):\n",
    "    month, day, year = date_as_string.split()\n",
    "    day_str = f\"0{day}\" if len(str(day)) == 1 else str(day)\n",
    "    converted_date = \"{}-{}-{}\".format(year, months[month], day_str)\n",
    "    return converted_date.split(\",\")[0]\n",
    "\n",
    "# Aqui é a coluna \"date_added\" recebendo para cada registro o resultado da função acima\n",
    "base[\"date_added\"] = base[\"date_added\"].apply(lambda item: convert_date(item))\n",
    "\n",
    "# Depois de converter para o format AAAA-MM-DD vamos converter a coluna para o tipo data\n",
    "base[\"date_added\"] = base[\"date_added\"].astype('datetime64[ns]')"
   ]
  },
  {
   "cell_type": "markdown",
   "id": "119f2255-9d3a-4b7f-9f9d-74180940b8d2",
   "metadata": {},
   "source": [
    "Vamos agora criar um nova coluna que vai agrupar as datas. O objetivo é diminuir a variedade dos registros, funcionará assim: \n",
    "\n",
    "- Se o registro na coluna `date_added` for 2022-11-01 - Na coluna `date_added_as_cat` será 2022-02\n",
    "\n",
    "Ou seja o Ano + Semestre da qual o mês pertence, mais alguns exemplos: \n",
    "\n",
    "- (date_added) 2021-09-24  - (date_added_as_cat) - 2021-2\n",
    "- (date_added) 2016-03-09  - (date_added_as_cat) - 2016-1\n",
    "- (date_added) 2019-11-20  - (date_added_as_cat) - 2019-2"
   ]
  },
  {
   "cell_type": "code",
   "execution_count": 310,
   "id": "5d55739c-5cdb-4f0c-9887-8c25d164bd83",
   "metadata": {},
   "outputs": [],
   "source": [
    "# A função abaixo fará este processo:\n",
    "def define_cat_date_added(date):\n",
    "    year, month, *_ = str(date).split(\"-\")\n",
    "    semester  = 1 if int(month) <= 6 else 2\n",
    "    return f\"{year}-{semester}\"\n",
    "    \n",
    "        \n",
    "\n",
    "base[\"date_added_as_cat\"] = base[\"date_added\"].apply(define_cat_date_added)"
   ]
  },
  {
   "cell_type": "markdown",
   "id": "5a7e2f07-5374-4a23-be32-603dc1a2c87d",
   "metadata": {},
   "source": [
    "Ok, neste momento já temos nossa coluna que agrupa as datas em semestres isso vai dimunir a variedades dos registros. Vamos conferir na célula abaixo:"
   ]
  },
  {
   "cell_type": "code",
   "execution_count": 300,
   "id": "67f80fea-d6c9-4089-bf13-544f022b4fd2",
   "metadata": {},
   "outputs": [
    {
     "name": "stdout",
     "output_type": "stream",
     "text": [
      "A coluna date_added_as_cat possui 26 diferentes variações.\n"
     ]
    }
   ],
   "source": [
    "print(\"A coluna date_added_as_cat possui {} diferentes variações.\".format(len(base[\"date_added_as_cat\"].value_counts())) )"
   ]
  },
  {
   "cell_type": "markdown",
   "id": "e6531dae-2106-429f-abc6-32b7c7990fe4",
   "metadata": {},
   "source": [
    "São 26 variações um número muito mais plausível para exibir, vamos ver abaixo o gráfico:"
   ]
  },
  {
   "cell_type": "code",
   "execution_count": 314,
   "id": "c5eaeb5f-e02b-49a3-b10f-74118a2f79ff",
   "metadata": {},
   "outputs": [
    {
     "data": {
      "image/png": "[encoded data removed]",
      "text/plain": [
       "<Figure size 640x480 with 1 Axes>"
      ]
     },
     "metadata": {},
     "output_type": "display_data"
    }
   ],
   "source": [
    "# Importamos o matplotlib uma biblioteca para criação de gráficos\n",
    "import matplotlib.pyplot as plt\n",
    "\n",
    "# Utilizamos a função subplots que vai nos retornar no 2º argumento o eixo do gráfico\n",
    "_, ax = plt.subplots()\n",
    "\n",
    "# A função .crosstab do pandas nos retorna a relação dos dados entre diferentes colunas, neste caso \n",
    "#estamos obtendo os dados entre a coluna recém criada com as datas dividas em semestres e a \n",
    "#coluna type que descrimina se a produção é  uma série ou filme, a partir do resultado destes dados nós \n",
    "#vamos utilizar a função .plot que é uma função do pandas para exibir gráficos. \n",
    "#Esta função utiliza o Matplotlib por baixo dos panos.\n",
    "\n",
    "pd.crosstab(base[\"date_added_as_cat\"], base[\"type\"]).plot(\n",
    "    title=\"Diferença de filmes e séries adicionados nos catálogos\",\n",
    "    xlabel=\"Período\",\n",
    "    ylabel=\"Quantidade\",\n",
    "    ax=ax\n",
    ");\n",
    "\n",
    "ax.legend([\"Filme\", \"Série\"]);\n"
   ]
  },
  {
   "cell_type": "markdown",
   "id": "d92ae17a-c07b-4aab-b33c-788fc5a40fec",
   "metadata": {},
   "source": [
    "##### Em resumo até aqui nós:\n",
    "\n",
    "- Analisamos a base e enxergamos uma grande variedade de registros que iríamos utilizar na nossa apresentação.\n",
    "\n",
    "- Criamos uma nova coluna que tem como objetivo agrupar estes registros.\n",
    "\n",
    "- Construímos um gráfico a partir dos dados agrupados."
   ]
  }
 ],
 "metadata": {
  "kernelspec": {
   "display_name": "Python 3 (ipykernel)",
   "language": "python",
   "name": "python3"
  },
  "language_info": {
   "codemirror_mode": {
    "name": "ipython",
    "version": 3
   },
   "file_extension": ".py",
   "mimetype": "text/x-python",
   "name": "python",
   "nbconvert_exporter": "python",
   "pygments_lexer": "ipython3",
   "version": "3.11.7"
  }
 },
 "nbformat": 4,
 "nbformat_minor": 5
}
