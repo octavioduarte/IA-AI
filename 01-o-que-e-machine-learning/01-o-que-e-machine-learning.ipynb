{
 "cells": [
  {
   "cell_type": "markdown",
   "id": "b6ee4bdf-76f9-4aaa-806c-e957be6cebe1",
   "metadata": {},
   "source": [
    "## Machine Learning"
   ]
  },
  {
   "cell_type": "markdown",
   "id": "44d3d2e5-828d-41ea-9ac7-e38f9175d051",
   "metadata": {},
   "source": [
    "#### Machine Learning e IA"
   ]
  },
  {
   "cell_type": "markdown",
   "id": "51726855-ae25-4d05-8cd1-55877e78a1b6",
   "metadata": {},
   "source": [
    "Machine Learning é uma subcategoria da área de Inteligência Artificial. É fundamental entender que a relação de Machine Learning para Inteligência Artificial é **hierárquica**.\n",
    "\n",
    "Aqui está uma relação de como funciona este processo com algumas outras áreas para uma melhor compreensão:\n",
    "\n",
    "    > Ciência da computação\n",
    "        > Inteligência Artificial\n",
    "          > Machine Learning \n",
    "          > NLP\n",
    "          > Computação Cognitiva\n",
    "          > Robótica\n",
    "          \n",
    "          \n",
    "        > Desenvolvimento de Software\n",
    "          > Desenvolvimento Web\n",
    "              > Desenvolvimento Backend\n",
    "              > Desenvolvimento Frontend\n",
    "          > Testes\n",
    "\n",
    "        > Hardware\n",
    "            > Manutenção de componentes\n",
    "            \n",
    "** <i>É interessante compreender que o Machine Learning não aborda todos os aspectos da área de Inteligência Artificial. Utilizemos o famoso ChatGPT como exemplo: a engenharia por trás deste projeto não está limitada ao Machine Learning; existem outras subáreas dentro da IA que foram implementadas para sua construção.</i>"
   ]
  },
  {
   "cell_type": "markdown",
   "id": "42a47085-4588-42cd-8e27-992ad6a72c70",
   "metadata": {},
   "source": [
    "#### O que é Machine Learning?"
   ]
  },
  {
   "cell_type": "markdown",
   "id": "3707d389-3330-4c2d-bd9b-310b563e94e8",
   "metadata": {},
   "source": [
    "Em resumo, Machine Learning é a área da inteligência artificial dedicada a ensinar computadores por meio de dados. Na prática, um profissional desta área, geralmente chamado de Cientista de Dados, constrói os chamados modelos, que recebem um conjunto de dados e, através de um processo de treinamento, aprendem padrões e relações. Após o treinamento, o modelo é capaz de fornecer resultados para um conjunto de dados nunca antes visto. Existem exemplos classicos de como isso funciona na prática, seja para calcular o preço de alguma casa com base nas suas caracteristicas, ou determinarmos se uma foto é de um cachorro ou gato e etc... Mas vamos ver um exemplo razoavelmente diferente abaixo:\n",
    "\n",
    "**Imagine que você trabalha como cientista de dados em uma agência que foi contratada para identificar potenciais clientes interessados em comprar ingressos para um show de rock. O contratante pretende disparar conteúdos patrocinados para estas pessoas**\n",
    "\n",
    "\n",
    "E agora, o que fazer? \n",
    "\n",
    "Bom, já entendemos que no Machine Learning nós ensinamos nossas máquinas através de dados, então cabe a nós coletarmos esses dados. \n",
    "\n",
    "(estamos pulando algumas etapas que muitos textos educativos usam, mas vamos explicar todos os processos ao decorrer do texto)\n",
    "\n",
    "Antes de coletarmos os dados, é importante ressaltar para que eles servem: estamos procurando identificar potenciais clientes para a compra de ingressos para um show de rock. Para mapear um potencial cliente, precisamos primeiro entender o que caracteriza um potencial cliente. Podemos analisar o histórico de clientes que foram a outros shows desta banda. Vamos ver nas células abaixo o processo:"
   ]
  },
  {
   "cell_type": "markdown",
   "id": "215882df-4403-4ddf-9040-43b3f86f52c5",
   "metadata": {},
   "source": [
    "##### Obtendo dados para o treinamento do modelo"
   ]
  },
  {
   "cell_type": "markdown",
   "id": "4672db30-ab3f-47a7-9695-2ac57a462fe0",
   "metadata": {},
   "source": [
    "Neste exemplo vamos partir do principio que conseguimos obter esses dados através de uma integração com um serviço digital. Este serviço disparou e-mail para uma base de clientes no mês passado para vender ingressos do show desta mesma banda que foi realizado em outra cidade, abaixo estão os dados destes clientes e uma coluna que representa se o cliente comprou ou não o ingresso:"
   ]
  },
  {
   "cell_type": "code",
   "execution_count": 6,
   "id": "ca7726b6-e3d1-453d-a3b3-2326e15dba10",
   "metadata": {},
   "outputs": [
    {
     "data": {
      "text/html": [
       "<div>\n",
       "<style scoped>\n",
       "    .dataframe tbody tr th:only-of-type {\n",
       "        vertical-align: middle;\n",
       "    }\n",
       "\n",
       "    .dataframe tbody tr th {\n",
       "        vertical-align: top;\n",
       "    }\n",
       "\n",
       "    .dataframe thead th {\n",
       "        text-align: right;\n",
       "    }\n",
       "</style>\n",
       "<table border=\"1\" class=\"dataframe\">\n",
       "  <thead>\n",
       "    <tr style=\"text-align: right;\">\n",
       "      <th></th>\n",
       "      <th>name</th>\n",
       "      <th>email</th>\n",
       "      <th>yearBirth</th>\n",
       "      <th>gender</th>\n",
       "      <th>totalDaysFollowingPage</th>\n",
       "      <th>totalLikePage</th>\n",
       "      <th>wentToShow</th>\n",
       "    </tr>\n",
       "  </thead>\n",
       "  <tbody>\n",
       "    <tr>\n",
       "      <th>0</th>\n",
       "      <td>Carlos Eduardo Barros</td>\n",
       "      <td>carlos_eduardo_barros@exemplo.com</td>\n",
       "      <td>1981</td>\n",
       "      <td>0</td>\n",
       "      <td>4071</td>\n",
       "      <td>834</td>\n",
       "      <td>0</td>\n",
       "    </tr>\n",
       "    <tr>\n",
       "      <th>1</th>\n",
       "      <td>Mariana Clara da Luz</td>\n",
       "      <td>mariana_clara_luz@exemplo.com</td>\n",
       "      <td>2003</td>\n",
       "      <td>1</td>\n",
       "      <td>577</td>\n",
       "      <td>81</td>\n",
       "      <td>0</td>\n",
       "    </tr>\n",
       "    <tr>\n",
       "      <th>2</th>\n",
       "      <td>Roberta Filipe Drumond</td>\n",
       "      <td>roberto_filipe@exemplo.com</td>\n",
       "      <td>1978</td>\n",
       "      <td>1</td>\n",
       "      <td>2940</td>\n",
       "      <td>381</td>\n",
       "      <td>1</td>\n",
       "    </tr>\n",
       "    <tr>\n",
       "      <th>3</th>\n",
       "      <td>Lívia Bianca Porto</td>\n",
       "      <td>livia_bianca_porto@exemplo.com</td>\n",
       "      <td>1998</td>\n",
       "      <td>1</td>\n",
       "      <td>877</td>\n",
       "      <td>658</td>\n",
       "      <td>1</td>\n",
       "    </tr>\n",
       "    <tr>\n",
       "      <th>4</th>\n",
       "      <td>Thiago Henrique de Paula</td>\n",
       "      <td>thiago_henrique_paula@exemplo.com</td>\n",
       "      <td>1979</td>\n",
       "      <td>0</td>\n",
       "      <td>1443</td>\n",
       "      <td>191</td>\n",
       "      <td>0</td>\n",
       "    </tr>\n",
       "    <tr>\n",
       "      <th>5</th>\n",
       "      <td>Fernanda Isabela Galvão</td>\n",
       "      <td>fernanda_isabela@exemplo.com</td>\n",
       "      <td>1995</td>\n",
       "      <td>1</td>\n",
       "      <td>2093</td>\n",
       "      <td>102</td>\n",
       "      <td>0</td>\n",
       "    </tr>\n",
       "    <tr>\n",
       "      <th>6</th>\n",
       "      <td>Marcos Vinicius Lima</td>\n",
       "      <td>marcos_vinicius@exemplo.com</td>\n",
       "      <td>1974</td>\n",
       "      <td>0</td>\n",
       "      <td>1202</td>\n",
       "      <td>230</td>\n",
       "      <td>1</td>\n",
       "    </tr>\n",
       "    <tr>\n",
       "      <th>7</th>\n",
       "      <td>Juliana Marta Teixeira</td>\n",
       "      <td>juliana_marta@exemplo.com</td>\n",
       "      <td>1985</td>\n",
       "      <td>1</td>\n",
       "      <td>1853</td>\n",
       "      <td>197</td>\n",
       "      <td>1</td>\n",
       "    </tr>\n",
       "    <tr>\n",
       "      <th>8</th>\n",
       "      <td>Lucas Gabriel Moura</td>\n",
       "      <td>lucas_gabriel@exemplo.com</td>\n",
       "      <td>1991</td>\n",
       "      <td>0</td>\n",
       "      <td>1071</td>\n",
       "      <td>221</td>\n",
       "      <td>1</td>\n",
       "    </tr>\n",
       "    <tr>\n",
       "      <th>9</th>\n",
       "      <td>Camila Rafaela Pires</td>\n",
       "      <td>camila_rafaela@exemplo.com</td>\n",
       "      <td>1983</td>\n",
       "      <td>1</td>\n",
       "      <td>448</td>\n",
       "      <td>71</td>\n",
       "      <td>0</td>\n",
       "    </tr>\n",
       "  </tbody>\n",
       "</table>\n",
       "</div>"
      ],
      "text/plain": [
       "                       name                              email  yearBirth  \\\n",
       "0     Carlos Eduardo Barros  carlos_eduardo_barros@exemplo.com       1981   \n",
       "1      Mariana Clara da Luz      mariana_clara_luz@exemplo.com       2003   \n",
       "2    Roberta Filipe Drumond         roberto_filipe@exemplo.com       1978   \n",
       "3        Lívia Bianca Porto     livia_bianca_porto@exemplo.com       1998   \n",
       "4  Thiago Henrique de Paula  thiago_henrique_paula@exemplo.com       1979   \n",
       "5   Fernanda Isabela Galvão       fernanda_isabela@exemplo.com       1995   \n",
       "6      Marcos Vinicius Lima        marcos_vinicius@exemplo.com       1974   \n",
       "7    Juliana Marta Teixeira          juliana_marta@exemplo.com       1985   \n",
       "8       Lucas Gabriel Moura          lucas_gabriel@exemplo.com       1991   \n",
       "9      Camila Rafaela Pires         camila_rafaela@exemplo.com       1983   \n",
       "\n",
       "   gender  totalDaysFollowingPage  totalLikePage  wentToShow  \n",
       "0       0                    4071            834           0  \n",
       "1       1                     577             81           0  \n",
       "2       1                    2940            381           1  \n",
       "3       1                     877            658           1  \n",
       "4       0                    1443            191           0  \n",
       "5       1                    2093            102           0  \n",
       "6       0                    1202            230           1  \n",
       "7       1                    1853            197           1  \n",
       "8       0                    1071            221           1  \n",
       "9       1                     448             71           0  "
      ]
     },
     "metadata": {},
     "output_type": "display_data"
    }
   ],
   "source": [
    "import pandas as pd\n",
    "\n",
    "dataset = pd.read_csv('./show-clients.csv')\n",
    "\n",
    "display(dataset)\n",
    "\n",
    "# Breve explicação do código:\n",
    "\n",
    "# Na primeira linha estamos inportando o [Pandas](https://pandas.pydata.org/), é uma biblioteca muito famosa feita para manipular/ visualizar dados de  diferentes formatos: csv, xlsx, json e até tabelas SQL. \n",
    "\n",
    "# Na segunda linha estamos basicamente fazendo a leitrua do nossos dados que estão em formato CSV.\n",
    "\n",
    "# Na terceira linha estamos visualizando nosso arquivo em um formato de tabela."
   ]
  },
  {
   "cell_type": "markdown",
   "id": "8263a5cd-bbd1-40c9-a2c3-96e3b4dcba31",
   "metadata": {},
   "source": [
    "Explicação das colunas do nosso dataset:\n",
    "\n",
    "| Coluna                  | Descrição |\n",
    "| ----------------------- | ------------------------------------------------------------------------------------------ |\n",
    "| name                    | Armazenará o nome do cliente que recebeu o e-mail.                                         |\n",
    "| email                   | E-mail do cliente.                                                                         |\n",
    "| yearBirth               | Ano de nascimento do cliente.                                                              |\n",
    "| gender                  | Gênero do(a) cliente (0 se for homem e 1 se for mulher).                                                                      |\n",
    "| totalDaysFollowingPage  | Total de dias que o cliente segue a página da banda nas redes sociais.                     |\n",
    "| totalLikePage           | Total de curtidas que o cliente fez nas publicações da página na banda nas redes sociais.  |\n",
    "| wentToShow              | Se o cliente foi ou não no show (0 se não foi e 1 se foi).                                  |\n"
   ]
  },
  {
   "cell_type": "markdown",
   "id": "277306e4-b6fa-4dfe-8190-3a0e8bc5d3a2",
   "metadata": {},
   "source": [
    "##### Deixando a base no esquema pro treinamento do nosso modelo"
   ]
  },
  {
   "cell_type": "markdown",
   "id": "f7c382e7-2bb1-4118-b7a0-da16ed91c213",
   "metadata": {},
   "source": [
    "O objetivo aqui é explicar o Machine Learning de maneira abrangente e objetiva. Porém, é importante destacar que, no cotidiano de um cientista de dados, os dados raramente chegam prontos para o treinamento. Precisamos aplicar diversas técnicas para preparar os dados adequadamente. Usando o exemplo da nossa base de dados, devemos nos perguntar:\n",
    "\n",
    "*O que é realmente importante incluir no nosso modelo para que ele identifique padrões e determine se uma pessoa comprará ou não o ingresso?*\n",
    "\n",
    "Embora existam técnicas para determinar quais colunas são relevantes para o treinamento do modelo, é útil também entender a semântica do contexto desses dados. Por exemplo:\n",
    "\n",
    "\n",
    "    \"Carlos Eduardo Barros não foi ao show porque o nome dele começa com C.\"\n",
    "    \n",
    "    \"Lívia Bianca Porto foi ao show porque seu nome começa apenas com consoantes.\"\n",
    "\n",
    "Peço desculpas pelo péssimo exemplo, mas a ideia é entender que, para o nosso modelo, algumas colunas são irrelevantes. O nome da pessoa, por exemplo, não importa para o treinamento, assim como o e-mail (embora possamos supor que o provedor tenha alguma relação com a ausência no show, não vamos considerar isso). Em resumo, **utilize dados que realmente façam sentido para o treinamento do modelo**. Digo isso porque, mais adiante, veremos que **quanto maior o número de informações usadas no treinamento do modelo, mais preciso ele será, desde que esses dados sejam corretos e relevantes.** Utilize de técnicas + bom senso para selecionar os dados que você irá utilizar.\n",
    "\n",
    "\n",
    "Os dados que vamos escolher serão: \n",
    "\n",
    "\n",
    "| Coluna                  | Descrição |\n",
    "| ----------------------- | ------------------------------------------------------------------------------------------ |\n",
    "| yearBirth               | Faz sentido eu considerar a idade, dado que a banda pode ser mais popular em um público mais novo ou mais velho.                                                              |\n",
    "| gender                  | Faz sentido eu considerar o gênero, dado que a banda pode ser mais popular com mulheres ou homens.                                                                     |\n",
    "| totalDaysFollowingPage  | Vamos considerar que o  total de dias que a pessoa segue a página é um indicador razoável para isso convenhamos que no mundo real isso não é um nenhum exagero, mas também não é muito determiante.                    |\n",
    "| totalLikePage           | Total de curtidas que o cliente fez nas publicações segue a mesma regra de `totalDaysFollowingPage`.  |"
   ]
  },
  {
   "cell_type": "code",
   "execution_count": 16,
   "id": "d64c054d-bd6f-4bb4-8519-22e5662f6059",
   "metadata": {},
   "outputs": [],
   "source": [
    "features = [\"yearBirth\", \"gender\", \"totalDaysFollowingPage\", \"totalLikePage\"]\n",
    "\n",
    "X = dataset[features]\n",
    "y = dataset[\"wentToShow\"]\n",
    "\n",
    "# Na primeira linha, definimos as features, ou seja, as colunas importantes para o \n",
    "#treinamento do modelo.\n",
    "\n",
    "# Na segunda linha, selecionamos apenas os valores úteis para o treinamento, armazenando-os \n",
    "#na variável X. Essas são as colunas relevantes da nossa base de dados.\n",
    "\n",
    "# Na terceira linha, armazenamos na variável y os dados da coluna 'wentToShow', que indica \n",
    "#se a pessoa foi ao show ou não. Esta coluna, conhecida como 'target column' (coluna alvo), é \n",
    "#essencial em modelos de machine learning supervisionados, pois contém as classes: 1 para os que \n",
    "#foram ao show e 0 para os que não foram.\n",
    "\n",
    "# Vale mencionar que X e Y são nomes comuns na ciência de dados para representar as features e \n",
    "#a variável alvo, respectivamente."
   ]
  },
  {
   "cell_type": "markdown",
   "id": "179a036e-8f21-4363-949b-0e8abd831820",
   "metadata": {},
   "source": [
    "##### Vamos treinar o modelo"
   ]
  },
  {
   "cell_type": "code",
   "execution_count": 17,
   "id": "21a52fb9-bb53-48af-b748-e054cccb5eeb",
   "metadata": {},
   "outputs": [
    {
     "data": {
      "text/html": [
       "<style>#sk-container-id-2 {color: black;background-color: white;}#sk-container-id-2 pre{padding: 0;}#sk-container-id-2 div.sk-toggleable {background-color: white;}#sk-container-id-2 label.sk-toggleable__label {cursor: pointer;display: block;width: 100%;margin-bottom: 0;padding: 0.3em;box-sizing: border-box;text-align: center;}#sk-container-id-2 label.sk-toggleable__label-arrow:before {content: \"▸\";float: left;margin-right: 0.25em;color: #696969;}#sk-container-id-2 label.sk-toggleable__label-arrow:hover:before {color: black;}#sk-container-id-2 div.sk-estimator:hover label.sk-toggleable__label-arrow:before {color: black;}#sk-container-id-2 div.sk-toggleable__content {max-height: 0;max-width: 0;overflow: hidden;text-align: left;background-color: #f0f8ff;}#sk-container-id-2 div.sk-toggleable__content pre {margin: 0.2em;color: black;border-radius: 0.25em;background-color: #f0f8ff;}#sk-container-id-2 input.sk-toggleable__control:checked~div.sk-toggleable__content {max-height: 200px;max-width: 100%;overflow: auto;}#sk-container-id-2 input.sk-toggleable__control:checked~label.sk-toggleable__label-arrow:before {content: \"▾\";}#sk-container-id-2 div.sk-estimator input.sk-toggleable__control:checked~label.sk-toggleable__label {background-color: #d4ebff;}#sk-container-id-2 div.sk-label input.sk-toggleable__control:checked~label.sk-toggleable__label {background-color: #d4ebff;}#sk-container-id-2 input.sk-hidden--visually {border: 0;clip: rect(1px 1px 1px 1px);clip: rect(1px, 1px, 1px, 1px);height: 1px;margin: -1px;overflow: hidden;padding: 0;position: absolute;width: 1px;}#sk-container-id-2 div.sk-estimator {font-family: monospace;background-color: #f0f8ff;border: 1px dotted black;border-radius: 0.25em;box-sizing: border-box;margin-bottom: 0.5em;}#sk-container-id-2 div.sk-estimator:hover {background-color: #d4ebff;}#sk-container-id-2 div.sk-parallel-item::after {content: \"\";width: 100%;border-bottom: 1px solid gray;flex-grow: 1;}#sk-container-id-2 div.sk-label:hover label.sk-toggleable__label {background-color: #d4ebff;}#sk-container-id-2 div.sk-serial::before {content: \"\";position: absolute;border-left: 1px solid gray;box-sizing: border-box;top: 0;bottom: 0;left: 50%;z-index: 0;}#sk-container-id-2 div.sk-serial {display: flex;flex-direction: column;align-items: center;background-color: white;padding-right: 0.2em;padding-left: 0.2em;position: relative;}#sk-container-id-2 div.sk-item {position: relative;z-index: 1;}#sk-container-id-2 div.sk-parallel {display: flex;align-items: stretch;justify-content: center;background-color: white;position: relative;}#sk-container-id-2 div.sk-item::before, #sk-container-id-2 div.sk-parallel-item::before {content: \"\";position: absolute;border-left: 1px solid gray;box-sizing: border-box;top: 0;bottom: 0;left: 50%;z-index: -1;}#sk-container-id-2 div.sk-parallel-item {display: flex;flex-direction: column;z-index: 1;position: relative;background-color: white;}#sk-container-id-2 div.sk-parallel-item:first-child::after {align-self: flex-end;width: 50%;}#sk-container-id-2 div.sk-parallel-item:last-child::after {align-self: flex-start;width: 50%;}#sk-container-id-2 div.sk-parallel-item:only-child::after {width: 0;}#sk-container-id-2 div.sk-dashed-wrapped {border: 1px dashed gray;margin: 0 0.4em 0.5em 0.4em;box-sizing: border-box;padding-bottom: 0.4em;background-color: white;}#sk-container-id-2 div.sk-label label {font-family: monospace;font-weight: bold;display: inline-block;line-height: 1.2em;}#sk-container-id-2 div.sk-label-container {text-align: center;}#sk-container-id-2 div.sk-container {/* jupyter's `normalize.less` sets `[hidden] { display: none; }` but bootstrap.min.css set `[hidden] { display: none !important; }` so we also need the `!important` here to be able to override the default hidden behavior on the sphinx rendered scikit-learn.org. See: https://github.com/scikit-learn/scikit-learn/issues/21755 */display: inline-block !important;position: relative;}#sk-container-id-2 div.sk-text-repr-fallback {display: none;}</style><div id=\"sk-container-id-2\" class=\"sk-top-container\"><div class=\"sk-text-repr-fallback\"><pre>DecisionTreeClassifier(random_state=1910)</pre><b>In a Jupyter environment, please rerun this cell to show the HTML representation or trust the notebook. <br />On GitHub, the HTML representation is unable to render, please try loading this page with nbviewer.org.</b></div><div class=\"sk-container\" hidden><div class=\"sk-item\"><div class=\"sk-estimator sk-toggleable\"><input class=\"sk-toggleable__control sk-hidden--visually\" id=\"sk-estimator-id-2\" type=\"checkbox\" checked><label for=\"sk-estimator-id-2\" class=\"sk-toggleable__label sk-toggleable__label-arrow\">DecisionTreeClassifier</label><div class=\"sk-toggleable__content\"><pre>DecisionTreeClassifier(random_state=1910)</pre></div></div></div></div></div>"
      ],
      "text/plain": [
       "DecisionTreeClassifier(random_state=1910)"
      ]
     },
     "execution_count": 17,
     "metadata": {},
     "output_type": "execute_result"
    }
   ],
   "source": [
    "from sklearn.tree import DecisionTreeClassifier\n",
    "\n",
    "model = DecisionTreeClassifier(random_state=1910)\n",
    "\n",
    "model.fit(X, y)\n",
    "\n",
    "# Na primeira linha, importamos o modelo DecisionTreeClassifier da biblioteca sklearn.\n",
    "#sklearn é uma biblioteca de código aberto para trabalhar com Machine Learning e DecisionTreeClassifier\n",
    "#é o modelo que decidimos utilizar aqui o sklearn tem diversos modelos e decidir o mais adequado é\n",
    "#uma decisão que exige uma maior atenção, por hora com poucos dados podemos utilizar o       \n",
    "#DecisionTreeClassifier sem problemas.\n",
    "\n",
    "# Na segunda linha, estamso instanciando a classe do DecisionTreeClassifier e passamos o random_state\n",
    "#no construtor da classe, isso serve para garantir que o resultado do modelo será sempre o mesmo\n",
    "#(isso é útil para que consigamos reproduzir cenários).\n",
    "\n",
    "# Na terceira linha, estamos utilizando a função .fit da classe DecisionTreeClassifier para treinar \n",
    "#nosso modelo, passamos aqui a coluna X que tem nossas features e a coluna Y que tem nossas classes\n",
    "#por debaixo dos panos o DecisionTreeClassifier vai entender o DecisionTreeRegressor \"padrão\" entre as features de uma mesma\n",
    "#classe e então será capaz de determinar a qual classe pertence um novo conjunto de dados.         "
   ]
  },
  {
   "cell_type": "markdown",
   "id": "76781caf-3d4f-4fc7-b5a9-4c77402ba807",
   "metadata": {},
   "source": [
    "##### Nosso modelo está treinado vamos ver a eficiência dele"
   ]
  },
  {
   "cell_type": "code",
   "execution_count": 12,
   "id": "62ab1019-d948-4b6b-bcb1-a0c26ba87af8",
   "metadata": {},
   "outputs": [
    {
     "name": "stdout",
     "output_type": "stream",
     "text": [
      "A acurácia foi de 100.00%.\n"
     ]
    }
   ],
   "source": [
    "from sklearn.metrics import accuracy_score\n",
    "\n",
    "predictions = model.predict(X)\n",
    "\n",
    "# A função predict pode ser traduzida como \"Modelo agora que você treinou, me diga então qual classe\n",
    "#dessas features aqui?\", e ai passamos o X que é onde armazenamos nossos conjuntos de dados depois\n",
    "#armazenamos o resultado das predições do nosso modelo na variável predictions.\n",
    "\n",
    "# Abaixo vamos utilizar a função accuracy_score que calcula a acurácia do modelo - Considere acurácia\n",
    "#uma palavra chique para \"Seu modelo acertou N% dos valores que passamos pra ele testar\" acurácia é o N.\n",
    "\n",
    "accuracy = accuracy_score(y, predictions) * 100\n",
    "print(\"A acurácia foi de {:.2f}%.\".format(accuracy))"
   ]
  },
  {
   "cell_type": "markdown",
   "id": "0806080d-2a07-4312-a9df-fb7fc811dc98",
   "metadata": {},
   "source": [
    "Nosso modelo retornou todas as classes corretamente, mas isso não é tão animador quanto parece. Utilizamos os dados de teste para fazer as validações, o que não é uma boa prática. É como ensinar alguém a atravessar a rua, voltar à calçada inicial e pedir \"Mostre-me como se faz agora\". Pode até ser razoável ficar otimista se a pessoa ou o modelo respondem corretamente ao que acabamos de ensinar, mas na prática, tanto a pessoa quanto o modelo precisam estar aptos para enfrentar novas situações e novos dados, respectivamente.\n",
    "\n",
    "Para sabermos se de fato nosso modelo está eficiente existem técnicas de validação, vamos ver sobre isso 👇.\n",
    "\n",
    "##### Separando os dados de Treinamento dos dados de Validação\n",
    "\n",
    "Vamos deixar nosso exemplo um pouco mais realista, agora vamos utilizar uma base com um pouco mais de informações e vamos fragmentar essa base, a ideia aqui é: \n",
    "\n",
    "<b><i>Separar nossos dados em treinamento e validação, para que os dados de validação sejam \"inéditos\" para o modelo e sua resposta não seja uma \"mera reprodução\" daquilo que ele acabou de ver.</i></b>\n",
    "\n",
    "Não existe \"bala de prata\" para este processo, nós poderíamos ter diferentes bases uma só pra treino e outra somente para validação, ou utilizar uma mesma base e separar um percentual dos dados para treinamento outros para validação. A comunidade de cientistas costuma separar de 70% a 80% dos dados de uma base para treinamento e os demais para validação (quando trabalham com uma única base).\n",
    "    "
   ]
  },
  {
   "cell_type": "code",
   "execution_count": 13,
   "id": "fb2f1bbb-3a8f-4564-82ee-d1758fd421ea",
   "metadata": {},
   "outputs": [
    {
     "name": "stdout",
     "output_type": "stream",
     "text": [
      "O dataset de treino possui 27 clientes e o de  treino 10 clientes.\n"
     ]
    }
   ],
   "source": [
    "from sklearn.model_selection import train_test_split\n",
    "\n",
    "\n",
    "dataset_prd = pd.read_csv('./show-clients-completed-base.csv')\n",
    "\n",
    "X_prd = dataset_prd[features]\n",
    "y_prd = dataset_prd[\"wentToShow\"]\n",
    "\n",
    "X_train, X_test, y_train, y_test = train_test_split(\n",
    "    X_prd,\n",
    "    y_prd,\n",
    "    test_size = 0.25,\n",
    "    random_state=1977 # mude este valor e execute novamente a célula para ver novos índices de acurácia\n",
    ")\n",
    "\n",
    "# Já sabemos o conceito de X e Y aqui, o que a função do sklearn está fazendo é separando nossos\n",
    "#dados em treino e validação, repare que estamos passando \"test_size=0.25\", isso significa que 25%\n",
    "#dos nossos dados seram utilizados para validação. \n",
    "\n",
    "# (E mais uma vez o random_state para garantir que nossos resultados não serão alterados).\n",
    "\n",
    "\n",
    "\n",
    "\n",
    "\n",
    "# Então agora os papéis das nossas variáveis são: \n",
    "\n",
    "# X_train armazena 75% dos nossos dados com as features que serão utilizadas para o treinamento.\n",
    "# X_test  armazena os outros 25% dos nossos dados com as features que serão utilizadas para a validação.\n",
    "\n",
    "\n",
    "# y_train armazena 75% dos nossos dados com as classes de X_train.\n",
    "# y_test  armazena os outros 25% dos nossos dados com as classes que serão utilizadas para a validação.\n",
    "\n",
    "# Lembrando X_test e y_test serão utilizados apenas na etapa de validação serão dados inéditos para\n",
    "#o nosso modelo\n",
    "\n",
    "\n",
    "print('O dataset de treino possui {} clientes e o de  treino {} clientes.'.format(X_train.shape[0], X_test.shape[0]))"
   ]
  },
  {
   "cell_type": "code",
   "execution_count": 15,
   "id": "a9872166-80e6-4fb1-8082-29eaa3c27922",
   "metadata": {},
   "outputs": [
    {
     "name": "stdout",
     "output_type": "stream",
     "text": [
      "Acurácia: 70.00%.\n"
     ]
    }
   ],
   "source": [
    "# Verificando a eficiência do nosso modelo com os dados de validação\n",
    "\n",
    "predictions = model.predict(X_test)\n",
    "accuracy = accuracy_score(y_test, predictions) * 100\n",
    "print (\"Acurácia: {:.2f}%.\".format(accuracy))"
   ]
  },
  {
   "cell_type": "markdown",
   "id": "cfd920da-267c-4cac-9eed-b22cca77e29b",
   "metadata": {},
   "source": [
    "É interessante ver o resultado acima e entender que na verdade tivemos uma melhora no nosso processo de validação, acontece que modelos com altíssimos índices de acerto tendem a ser suspeitos isso é constamente ressaltado pela comunidade de ciência de dados, é muito provável que um modelo com 100% de acurácia tenha resultados decepcionantes em produção, isso ocorre por que o processo de treinamento e/ou validação não foi feito da maneira correta e consequentemente nosso modelo não está pronto para predições de valores nunca vistos por ele antes. \n",
    "\n",
    "A acurácia acima de 70% nos dá uma número mais coerente com o cenário real, É como se nosso modelo fosse capaz de identificar com 70% de assertividade de que um cliente compraria ou não o ingresso para um show e isso é um número razoável/bom tanto da perspectiva do negócio como da perspectiva de machine learning.\n",
    "\n",
    "Mas é interessante ressaltarmos, <i>**a acurácia não pode ser (e na grande maioria dos casos não é) um fator determinante para determinar a eficiência de um modelo**</i> Existem outros métodos de validação um pouco mais precisos como a [validação cruzada](https://docs.aws.amazon.com/pt_br/machine-learning/latest/dg/cross-validation.html) que são mais indicados para garantir a eficácia de alguns modelos (poderia ser aplicado neste caso inclusive), na prática nossos dados de treinamento são dividios em subconjuntos e em cada um destes subconjuntos separamos parte para treino e parte para validação e repetimos depois calculamos a média da acurácia para cada subconjunto.\n",
    "\n",
    "Enfim, para fins didáticos e de introdução o modelo acima somado a algumas explicações deixam o processo de Machine Learning menos nebuloso (pelo menos é a ideia deste autor), espero que tenha ajudado em algo, abaixo seguem alguns pontos relevantes.\n",
    "\n",
    "Abraços!!!"
   ]
  },
  {
   "cell_type": "markdown",
   "id": "2f218ccb-a6fa-4ea8-9430-a5a25aa60378",
   "metadata": {},
   "source": [
    "#### Alguns pontos importantes:\n",
    "\n",
    "    - O exemplo acima considera apenas o modelo de classificação, existe o modelo de regressão também, basicamente utilizamos o modelo de classificação quando desejamos obter a **classe** de um conjunto de features e utilizamos o modelo de regressão quando desejamos obter algum \"valor** de um conjunto de features. Exemplo:\n",
    "    \n",
    "        Desejo saber se determinada foto é de um humano ou não - Classificação (classe é humano - classe não é humano).\n",
    "        \n",
    "        Desejo saber se uma mulher está grávida - Classificação (classe está grávida - classe não está grávida).\n",
    "\n",
    "        Desejo prever o placar de um jogo e fazer uma apostinha (hahaha) - Regressão (Desejo saber um valor)\n",
    "\n",
    "        Desejo prever o próximo campeão brasileiro (me ajuda Corinthians) - Regressão (O valor que desejo obter não é uma classe) \n",
    "\n",
    "    - Acurácia mesmo utilizado com dados de validação não é necessariamente a forma mais eficiente de validar se um modelo é bom ou não, alguns cientistas não recomendam o uso da acurácia em bases desbalanceadas (bases desbalanceadas = Base onde tenho muitos dados de uma classe e poucos dados de outra (s) ).\n",
    "\n",
    "</br>\n",
    "\n",
    "#### Resumindo alguns nomes técnicos que a galera gourmet gosta de usar:\n",
    "\n",
    "    features = Conjunto de colunas da nossa base que julgamos serem importantes para o treinamento do modelo.\n",
    "\n",
    "    eixo X = Agrupa as features (sim, só isso). \n",
    "\n",
    "    eixo Y = Coluna alvo, a coluna que vai armazenas as variações da classe que nosso modelo precisa entender o padrão para julgar se um conjunto de dados pertence ou não a ela.\n",
    "\n",
    "</br>\n",
    "\n",
    "#### Links de canais que abordam o assunto:\n",
    "\n",
    "[Let's Data](https://www.youtube.com/@letsdataAI) </br>\n",
    "\n",
    "[Canal do Mario Filho](https://www.youtube.com/@MarioFilhoML) </br>\n",
    "\n",
    "[Inteligência Mil Grau](https://www.youtube.com/c/Intelig%C3%AAnciaMilGrau) <i>(este não aborda tanto conteúdo de código - tem uma proposta mais conceitual).</i> </br>\n",
    "\n",
    "[Andrew NG](https://www.linkedin.com/in/andrewyng/) <i>Um profissional bastante conceituado na área - tem um curso na coursera muito recomenda pela comunidade de ciência de dados.</i>"
   ]
  }
 ],
 "metadata": {
  "kernelspec": {
   "display_name": "Python 3 (ipykernel)",
   "language": "python",
   "name": "python3"
  },
  "language_info": {
   "codemirror_mode": {
    "name": "ipython",
    "version": 3
   },
   "file_extension": ".py",
   "mimetype": "text/x-python",
   "name": "python",
   "nbconvert_exporter": "python",
   "pygments_lexer": "ipython3",
   "version": "3.11.7"
  }
 },
 "nbformat": 4,
 "nbformat_minor": 5
}
