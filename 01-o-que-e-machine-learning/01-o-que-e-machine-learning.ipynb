{
 "cells": [
  {
   "cell_type": "markdown",
   "id": "b6ee4bdf-76f9-4aaa-806c-e957be6cebe1",
   "metadata": {},
   "source": [
    "## Machine Learning"
   ]
  },
  {
   "cell_type": "markdown",
   "id": "44d3d2e5-828d-41ea-9ac7-e38f9175d051",
   "metadata": {},
   "source": [
    "#### Machine Learning e IA"
   ]
  },
  {
   "cell_type": "markdown",
   "id": "51726855-ae25-4d05-8cd1-55877e78a1b6",
   "metadata": {},
   "source": [
    "Machine Learning é uma subcategoria da área de Inteligência Artificial. É fundamental entender que a relação de Machine Learning para Inteligência Artificial é **hierárquica**.\n",
    "\n",
    "Aqui está uma relação de como funciona este processo com algumas outras áreas para uma melhor compreensão:\n",
    "\n",
    "    > Ciência da computação\n",
    "        > Inteligência Artificial\n",
    "          > Machine Learning \n",
    "          > NLP\n",
    "          > Computação Cognitiva\n",
    "          > Robótica\n",
    "          \n",
    "          \n",
    "        > Desenvolvimento de Software\n",
    "          > Desenvolvimento Web\n",
    "              > Desenvolvimento Backend\n",
    "              > Desenvolvimento Frontend\n",
    "          > Testes\n",
    "\n",
    "        > Hardware\n",
    "            > Manutenção de componentes\n",
    "            \n",
    "** <i>É interessante compreender que o Machine Learning não aborda todos os aspectos da área de Inteligência Artificial. Utilizemos o famoso ChatGPT como exemplo: a engenharia por trás deste projeto não está limitada ao Machine Learning; existem outras subáreas dentro da IA que foram implementadas para sua construção.</i>"
   ]
  }
 ],
 "metadata": {
  "kernelspec": {
   "display_name": "Python 3 (ipykernel)",
   "language": "python",
   "name": "python3"
  },
  "language_info": {
   "codemirror_mode": {
    "name": "ipython",
    "version": 3
   },
   "file_extension": ".py",
   "mimetype": "text/x-python",
   "name": "python",
   "nbconvert_exporter": "python",
   "pygments_lexer": "ipython3",
   "version": "3.11.7"
  }
 },
 "nbformat": 4,
 "nbformat_minor": 5
}
