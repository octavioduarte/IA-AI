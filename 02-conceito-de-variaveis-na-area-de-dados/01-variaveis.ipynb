{
 "cells": [
  {
   "cell_type": "markdown",
   "id": "95258c2f-e28a-423c-b22c-63c026586240",
   "metadata": {},
   "source": [
    "http://7meia.co/2024/07/03/variaveis-quantitativas-e-qualitativas/"
   ]
  },
  {
   "cell_type": "code",
   "execution_count": null,
   "id": "d8a96e0a-63dd-4807-8b8f-64ed2722f616",
   "metadata": {},
   "outputs": [],
   "source": []
  }
 ],
 "metadata": {
  "kernelspec": {
   "display_name": "Python 3 (ipykernel)",
   "language": "python",
   "name": "python3"
  },
  "language_info": {
   "codemirror_mode": {
    "name": "ipython",
    "version": 3
   },
   "file_extension": ".py",
   "mimetype": "text/x-python",
   "name": "python",
   "nbconvert_exporter": "python",
   "pygments_lexer": "ipython3",
   "version": "3.11.7"
  }
 },
 "nbformat": 4,
 "nbformat_minor": 5
}
